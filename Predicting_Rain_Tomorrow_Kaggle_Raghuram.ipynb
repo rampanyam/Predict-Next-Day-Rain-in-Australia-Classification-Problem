{
 "cells": [
  {
   "cell_type": "markdown",
   "metadata": {},
   "source": [
    "## A. Creating Spark Session and Loading the Data\n",
    "\n",
    "###  Importing Libraries : \n",
    "\n",
    "#### 1) Spark Context :  \n",
    "Spark Context is the entry point to the services of Apache Spark.This library is imported to initialize spark.\n",
    "\n",
    "#### 2) Spark Session : \n",
    "Importing Sparksession to allow programming Spark with DataFrame and DataSets.\n",
    "\n",
    "#### 3) SQL Functions\n",
    "\n",
    "Importing SQL functions such as mean(),when(),col() etc.\n",
    "\n",
    "\n",
    "#### 3) Feature Transformation : \n",
    "\n",
    "Importing feature transforemers  and estimators , such as  StringIndexer,OneHotEncdoer and VectorAssembler from pyspark.ml.features module.\n",
    "\n",
    "#### 4) MultiClassificationEvaluator : \n",
    "\n",
    "MultiClassificationEvaluator  is used to calculate the accuracy. It accepts two columns , the \n",
    "raw Predictions and the label. \n",
    "\n",
    "#### 5) Classification Algorithms:\n",
    "\n",
    "The Libraries DecisionTreeClasifier, RandomForestClassifier ,GBTClassifier,LogisticRegression are imported\n",
    "from the pyspark.ml.classification for the Classification Algorithms.\n",
    "\n",
    "\n",
    "#### 6) Matplotlib : \n",
    "\n",
    "The library Matplotlib is imported to plot the Bar Graph for the Accuracies.\n",
    "\n"
   ]
  },
  {
   "cell_type": "code",
   "execution_count": 1,
   "metadata": {},
   "outputs": [],
   "source": [
    "\n",
    "from pyspark import SparkContext\n",
    "from pyspark.sql import SparkSession\n",
    "from pyspark.sql.functions import *\n",
    "from pyspark.ml.feature import OneHotEncoder, StringIndexer, VectorAssembler \n",
    "from pyspark.ml.evaluation import BinaryClassificationEvaluator, MulticlassClassificationEvaluator\n",
    "from pyspark.ml.classification import DecisionTreeClassifier,RandomForestClassifier,GBTClassifier,LogisticRegression\n",
    "import matplotlib.pyplot as plt\n",
    "import numpy as np\n",
    "from sklearn.metrics import confusion_matrix,classification_report\n",
    "from pyspark.mllib.evaluation import MulticlassMetrics,BinaryClassificationMetrics\n",
    "\n",
    "\n",
    "\n",
    "\n"
   ]
  },
  {
   "cell_type": "markdown",
   "metadata": {},
   "source": [
    "#### Step 1 : Step 01: Import ​ pyspark ​ and initialize Spark"
   ]
  },
  {
   "cell_type": "code",
   "execution_count": 2,
   "metadata": {},
   "outputs": [],
   "source": [
    "#step 1 Code :\n",
    "from pyspark import SparkContext, SparkConf \n",
    "from pyspark.sql import SparkSession\n",
    "\n",
    "#Using the getOrCreate() function to create a new spark context or to get an existing Spark Context.\n",
    "sc = SparkContext.getOrCreate()\n",
    "\n",
    "\n",
    "# If there is no existing spark context, we now create a new context\n",
    "if (sc is None):  # Initializing an if loop to Check whether there is an existing Spark Context or not.\n",
    "    # using the SparkContext() function to create a new spark context if there is no existing Spark Context\n",
    "    # local[4] is running Spark Locally with 4 working processors.\n",
    "    # The app name is  the name that is shown on the Spark Clustering UI\n",
    "    sc = SparkContext(master=\"local[4]\", appName=\"Assignment 2\")\n",
    "    \n",
    "    \n",
    "#initializing a SparkSession with sparkContext = sc\n",
    "spark = SparkSession(sparkContext=sc)"
   ]
  },
  {
   "cell_type": "markdown",
   "metadata": {},
   "source": [
    "# Step 02: Load the dataset and print the schema and total number of entries"
   ]
  },
  {
   "cell_type": "markdown",
   "metadata": {},
   "source": [
    "**Loading the data frame Data Frame**\n",
    "\n",
    "The data frame is loaded with  the spark.read.csv() function. The parameter header = True  includes the heading. The parameter inferSchema  = True is used to correctly represent the datatypes of the Data Frame\n"
   ]
  },
  {
   "cell_type": "code",
   "execution_count": 3,
   "metadata": {},
   "outputs": [
    {
     "name": "stdout",
     "output_type": "stream",
     "text": [
      "root\n",
      " |-- Date: timestamp (nullable = true)\n",
      " |-- Location: string (nullable = true)\n",
      " |-- MinTemp: string (nullable = true)\n",
      " |-- MaxTemp: string (nullable = true)\n",
      " |-- Rainfall: string (nullable = true)\n",
      " |-- Evaporation: string (nullable = true)\n",
      " |-- Sunshine: string (nullable = true)\n",
      " |-- WindGustDir: string (nullable = true)\n",
      " |-- WindGustSpeed: string (nullable = true)\n",
      " |-- WindDir9am: string (nullable = true)\n",
      " |-- WindDir3pm: string (nullable = true)\n",
      " |-- WindSpeed9am: string (nullable = true)\n",
      " |-- WindSpeed3pm: string (nullable = true)\n",
      " |-- Humidity9am: string (nullable = true)\n",
      " |-- Humidity3pm: string (nullable = true)\n",
      " |-- Pressure9am: string (nullable = true)\n",
      " |-- Pressure3pm: string (nullable = true)\n",
      " |-- Cloud9am: string (nullable = true)\n",
      " |-- Cloud3pm: string (nullable = true)\n",
      " |-- Temp9am: string (nullable = true)\n",
      " |-- Temp3pm: string (nullable = true)\n",
      " |-- RainToday: string (nullable = true)\n",
      " |-- RainTomorrow: string (nullable = true)\n",
      "\n"
     ]
    }
   ],
   "source": [
    "weather_data = spark.read.csv('weatherAUS.csv',header = True,inferSchema = True)  # Reading a Spark data frame\n",
    "weather_data.printSchema()  # using printSchema() function to print the schema of the dataframe"
   ]
  },
  {
   "cell_type": "markdown",
   "metadata": {},
   "source": [
    "#### The number of entries in the DataFrame : \n",
    "\n",
    "The number of entries in the dataframe can be foundout using the count() function, The count() function\n",
    "returns the number of rows of the dataframe"
   ]
  },
  {
   "cell_type": "code",
   "execution_count": 4,
   "metadata": {},
   "outputs": [
    {
     "name": "stdout",
     "output_type": "stream",
     "text": [
      "The total  number of entries in the data are :  142193\n"
     ]
    }
   ],
   "source": [
    "print(\"The total  number of entries in the data are : \",weather_data.count())"
   ]
  },
  {
   "cell_type": "markdown",
   "metadata": {},
   "source": [
    "# B. Data Cleaning and Processing\n",
    "\n",
    "\n",
    "\n",
    "###  Step 03: Delete columns from the dataset\n",
    "\n",
    "\n",
    "#### Methodology : \n",
    "A list is defined inorder to store the columns to  be dropped. The spark.dataframe.select() method is used to select all the columns that are not in the dropped columns list.\n"
   ]
  },
  {
   "cell_type": "code",
   "execution_count": 5,
   "metadata": {
    "scrolled": true
   },
   "outputs": [
    {
     "name": "stdout",
     "output_type": "stream",
     "text": [
      "root\n",
      " |-- MinTemp: string (nullable = true)\n",
      " |-- MaxTemp: string (nullable = true)\n",
      " |-- Rainfall: string (nullable = true)\n",
      " |-- WindGustDir: string (nullable = true)\n",
      " |-- WindGustSpeed: string (nullable = true)\n",
      " |-- WindDir9am: string (nullable = true)\n",
      " |-- WindDir3pm: string (nullable = true)\n",
      " |-- WindSpeed9am: string (nullable = true)\n",
      " |-- WindSpeed3pm: string (nullable = true)\n",
      " |-- Humidity9am: string (nullable = true)\n",
      " |-- Humidity3pm: string (nullable = true)\n",
      " |-- Pressure9am: string (nullable = true)\n",
      " |-- Pressure3pm: string (nullable = true)\n",
      " |-- RainToday: string (nullable = true)\n",
      " |-- RainTomorrow: string (nullable = true)\n",
      "\n"
     ]
    }
   ],
   "source": [
    "\n",
    "# Delete useless data\n",
    "# Creating a list of useless columns\n",
    "drop_list = ['Date', 'Location', 'Evaporation', 'Cloud9am','Cloud3pm','Temp9am','Temp3pm','Sunshine']\n",
    "# Selecting the columns that are not present in the dropped columns list \n",
    "weather_data = weather_data.select([column for column in weather_data.columns if column not in drop_list])\n",
    "\n",
    "# Printing the Schema using printSchema() after dropping the columns\n",
    "weather_data.printSchema()"
   ]
  },
  {
   "cell_type": "markdown",
   "metadata": {},
   "source": [
    "## Step 04: Print the number of missing data in each column.\n",
    "\n",
    "The missing data can be foundout by selecting a subdataframe of all the rows containing the string \"NA\" as\n",
    "the missing data is represented by the string NA.The .count() function is used to count the number of rows \n",
    "contaaining the string **NA** "
   ]
  },
  {
   "cell_type": "code",
   "execution_count": 6,
   "metadata": {},
   "outputs": [
    {
     "name": "stdout",
     "output_type": "stream",
     "text": [
      "Number of nulls in column MinTemp are :  637\n",
      "Number of nulls in column MaxTemp are :  322\n",
      "Number of nulls in column Rainfall are :  1406\n",
      "Number of nulls in column WindGustDir are :  9330\n",
      "Number of nulls in column WindGustSpeed are :  9270\n",
      "Number of nulls in column WindDir9am are :  10013\n",
      "Number of nulls in column WindDir3pm are :  3778\n",
      "Number of nulls in column WindSpeed9am are :  1348\n",
      "Number of nulls in column WindSpeed3pm are :  2630\n",
      "Number of nulls in column Humidity9am are :  1774\n",
      "Number of nulls in column Humidity3pm are :  3610\n",
      "Number of nulls in column Pressure9am are :  14014\n",
      "Number of nulls in column Pressure3pm are :  13981\n",
      "Number of nulls in column RainToday are :  1406\n",
      "Number of nulls in column RainTomorrow are :  0\n"
     ]
    }
   ],
   "source": [
    "#  initializing a for loop to iterate through columns \n",
    "for column in weather_data.columns:\n",
    "    # Selecting Null Values by equating each column to NA \n",
    "    # Using the .count() function to count the number of entries\n",
    "    Null_values = weather_data[weather_data[column] == \"NA\"].count()\n",
    "    # Printing the number of values by using typecasting for the NullValues as they are integer type\n",
    "    print(\"Number of nulls in column \" + str(column) +  \" are :  \" + str(Null_values))"
   ]
  },
  {
   "cell_type": "markdown",
   "metadata": {},
   "source": [
    "### Step 05: Fill the missing data with average value and maximum occurrence value."
   ]
  },
  {
   "cell_type": "markdown",
   "metadata": {},
   "source": [
    "### Imputing Missing Values for Numerical Data with Mean : \n",
    "\n",
    "\n",
    "#### Methodology : \n",
    "A list of all the numeric columns is selected . The missing values  is imputed iteratively for each element in the list i.e. for each column in the list. The mean imputation is used for the Numeric columns, the mean is computed using the mean() function from the pyspark sql functions and then the .collect() method is used to collect the row object as a list and the first element, and the mean object is selected by indexing [0]['mean']. \n",
    "\n",
    "The when() function is used to implement the condition i.e. when the column value is NA, the NA value is replaced  with the mean. .otherwise() function is used to represent the non Missing values. The .withColumn() function is used to perform specific operations on a column.\n",
    "\n"
   ]
  },
  {
   "cell_type": "code",
   "execution_count": 7,
   "metadata": {},
   "outputs": [],
   "source": [
    "# A list of Numerical Columns : \n",
    "numerical_columns = ['MinTemp','MaxTemp','Rainfall','WindGustSpeed','WindSpeed9am','WindSpeed3pm','Humidity9am','Humidity3pm','Pressure9am','Pressure3pm']\n",
    "for i in numerical_columns: # Initializing a for loop to iterate through the list of Numerical values\n",
    "    # Imputing the missing values with mean using mean() function\n",
    "    # When() function is used for the conditional imputation, when the column values are NA the mean is used to \n",
    "    # impute the column values.    \n",
    "\n",
    "    weather_data = weather_data.withColumn(i,when(col(i) == \"NA\",str(weather_data.select(mean(col(i)).alias('mean')).collect()[0]['mean'])).otherwise(col(i)))\n",
    "    \n"
   ]
  },
  {
   "cell_type": "code",
   "execution_count": 8,
   "metadata": {
    "scrolled": true
   },
   "outputs": [
    {
     "name": "stdout",
     "output_type": "stream",
     "text": [
      "root\n",
      " |-- MinTemp: string (nullable = true)\n",
      " |-- MaxTemp: string (nullable = true)\n",
      " |-- Rainfall: string (nullable = true)\n",
      " |-- WindGustDir: string (nullable = true)\n",
      " |-- WindGustSpeed: string (nullable = true)\n",
      " |-- WindDir9am: string (nullable = true)\n",
      " |-- WindDir3pm: string (nullable = true)\n",
      " |-- WindSpeed9am: string (nullable = true)\n",
      " |-- WindSpeed3pm: string (nullable = true)\n",
      " |-- Humidity9am: string (nullable = true)\n",
      " |-- Humidity3pm: string (nullable = true)\n",
      " |-- Pressure9am: string (nullable = true)\n",
      " |-- Pressure3pm: string (nullable = true)\n",
      " |-- RainToday: string (nullable = true)\n",
      " |-- RainTomorrow: string (nullable = true)\n",
      "\n"
     ]
    }
   ],
   "source": [
    "weather_data.printSchema() # Printing the schema of the data."
   ]
  },
  {
   "cell_type": "markdown",
   "metadata": {},
   "source": [
    "### Imputing missing values for Non Numeric columns with Mode ( Most Repeated Value).\n",
    "\n",
    "The missing values in the non numeric columns are imputed with the mode, i.e. the most frequently occuring value.\n",
    "\n",
    "All the non numeric columns are taken in a list and the imputation is done iteratively for each column in the list.The counts of all the values in the column can be foundout by the .groupB().count() function.The orderBy() function, is used to order the columns in either ascending or descending order.The columns are ordered by the desc('count') i.e. in the decreasing order, the most repeated value on the top.The .collect() method is used to collect the Row Objects into a list and the the element at the 0th index of the  specific column i.e. the most frequent value of the column is selected and is replaced.\n",
    "\n",
    "The .withColoumn() function is used to make modifications on a specific column.The when() function is used for conditional imputation. "
   ]
  },
  {
   "cell_type": "code",
   "execution_count": 9,
   "metadata": {},
   "outputs": [],
   "source": [
    "# Taking the non numeric columns in a list\n",
    "non_numeric_columns = [x for x in weather_data.columns if x not in numerical_columns]\n",
    "for i in non_numeric_columns: # for loop to iterate through the elements of the list\n",
    "    # replacing the NA values with the Mode, in the Non-numeric columns . \n",
    "    weather_data = weather_data.withColumn(i,when(col(i) == \"NA\",weather_data.groupBy(i).count().orderBy(desc('count')).collect()[0][i]).otherwise(col(i)))\n"
   ]
  },
  {
   "cell_type": "code",
   "execution_count": 10,
   "metadata": {},
   "outputs": [
    {
     "name": "stdout",
     "output_type": "stream",
     "text": [
      "root\n",
      " |-- MinTemp: string (nullable = true)\n",
      " |-- MaxTemp: string (nullable = true)\n",
      " |-- Rainfall: string (nullable = true)\n",
      " |-- WindGustDir: string (nullable = true)\n",
      " |-- WindGustSpeed: string (nullable = true)\n",
      " |-- WindDir9am: string (nullable = true)\n",
      " |-- WindDir3pm: string (nullable = true)\n",
      " |-- WindSpeed9am: string (nullable = true)\n",
      " |-- WindSpeed3pm: string (nullable = true)\n",
      " |-- Humidity9am: string (nullable = true)\n",
      " |-- Humidity3pm: string (nullable = true)\n",
      " |-- Pressure9am: string (nullable = true)\n",
      " |-- Pressure3pm: string (nullable = true)\n",
      " |-- RainToday: string (nullable = true)\n",
      " |-- RainTomorrow: string (nullable = true)\n",
      "\n"
     ]
    }
   ],
   "source": [
    "weather_data.printSchema() # Using the printSchema() function to print the schema of the dataframe"
   ]
  },
  {
   "cell_type": "markdown",
   "metadata": {},
   "source": [
    "**Testing the Missing Value imputations** \n",
    "\n",
    "The number of Nulls after imputing the missing values are : "
   ]
  },
  {
   "cell_type": "code",
   "execution_count": 11,
   "metadata": {},
   "outputs": [
    {
     "name": "stdout",
     "output_type": "stream",
     "text": [
      "Number of nulls after imputation  in column MinTemp are :  0\n",
      "Number of nulls after imputation  in column MaxTemp are :  0\n",
      "Number of nulls after imputation  in column Rainfall are :  0\n",
      "Number of nulls after imputation  in column WindGustDir are :  0\n",
      "Number of nulls after imputation  in column WindGustSpeed are :  0\n",
      "Number of nulls after imputation  in column WindDir9am are :  0\n",
      "Number of nulls after imputation  in column WindDir3pm are :  0\n",
      "Number of nulls after imputation  in column WindSpeed9am are :  0\n",
      "Number of nulls after imputation  in column WindSpeed3pm are :  0\n",
      "Number of nulls after imputation  in column Humidity9am are :  0\n",
      "Number of nulls after imputation  in column Humidity3pm are :  0\n",
      "Number of nulls after imputation  in column Pressure9am are :  0\n",
      "Number of nulls after imputation  in column Pressure3pm are :  0\n",
      "Number of nulls after imputation  in column RainToday are :  0\n",
      "Number of nulls after imputation  in column RainTomorrow are :  0\n"
     ]
    }
   ],
   "source": [
    "for column in weather_data.columns:\n",
    "    # Selecting Null Values by equating each column to NA \n",
    "    # Using the .count() function to count the number of entries\n",
    "    Null_values = weather_data[weather_data[column] == \"NA\"].count()\n",
    "    # Printing the number of values by using typecasting for the NullValues as they are integer type\n",
    "    print(\"Number of nulls after imputation  in column \" + str(column) +  \" are :  \" + str(Null_values))"
   ]
  },
  {
   "cell_type": "code",
   "execution_count": null,
   "metadata": {},
   "outputs": [],
   "source": []
  },
  {
   "cell_type": "markdown",
   "metadata": {},
   "source": [
    "## Step 06: Data transformation\n",
    "\n",
    "#### Converting Numeric Columns to Double :\n",
    "\n",
    "The numeric columns of the dataframe are casted to double using the .cast() function . The 'double' key words indicates the double type.\n",
    "\n",
    "The .cast() function is used to cast the dataframe columns from one type to another."
   ]
  },
  {
   "cell_type": "code",
   "execution_count": 12,
   "metadata": {},
   "outputs": [],
   "source": [
    "for i in numerical_columns: #Iterating through the numeric column list\n",
    "    weather_data = weather_data.withColumn(i,col(i).cast(\"double\")) # using cast function to convert the type"
   ]
  },
  {
   "cell_type": "code",
   "execution_count": 13,
   "metadata": {
    "scrolled": true
   },
   "outputs": [
    {
     "name": "stdout",
     "output_type": "stream",
     "text": [
      "root\n",
      " |-- MinTemp: double (nullable = true)\n",
      " |-- MaxTemp: double (nullable = true)\n",
      " |-- Rainfall: double (nullable = true)\n",
      " |-- WindGustDir: string (nullable = true)\n",
      " |-- WindGustSpeed: double (nullable = true)\n",
      " |-- WindDir9am: string (nullable = true)\n",
      " |-- WindDir3pm: string (nullable = true)\n",
      " |-- WindSpeed9am: double (nullable = true)\n",
      " |-- WindSpeed3pm: double (nullable = true)\n",
      " |-- Humidity9am: double (nullable = true)\n",
      " |-- Humidity3pm: double (nullable = true)\n",
      " |-- Pressure9am: double (nullable = true)\n",
      " |-- Pressure3pm: double (nullable = true)\n",
      " |-- RainToday: string (nullable = true)\n",
      " |-- RainTomorrow: string (nullable = true)\n",
      "\n"
     ]
    }
   ],
   "source": [
    "weather_data.printSchema() # print Schema to check the type "
   ]
  },
  {
   "cell_type": "markdown",
   "metadata": {},
   "source": [
    "### Converting Non-Numeric to double \n",
    "\n",
    "String Indexer is a feature Estimator that  encodes a column of Lables to a Column of Label indicies. The String indexer model can be generated with the StringIndexer() function.This function takes two arguments inputCol i.e. the column to be indexed and the outputCol , the name of the output Column.\n",
    "\n",
    "The .fit() method is used to fit the dataframe and produce a Transformer i.e. the string indexer model is trained on the dataframe df. The Transformer is implemented using the .transform() function inorder to obtained the indexed column."
   ]
  },
  {
   "cell_type": "code",
   "execution_count": 14,
   "metadata": {},
   "outputs": [],
   "source": [
    "for column in non_numeric_columns:  # iterating through non numeric columns\n",
    "    # building a string indexer model\n",
    "    indexer = StringIndexer(inputCol = column, outputCol = column+\"index\")\n",
    "#     fiting and transforming the string indexer model on the dataframe \n",
    "    weather_data = indexer.fit(weather_data).transform(weather_data)"
   ]
  },
  {
   "cell_type": "code",
   "execution_count": 15,
   "metadata": {},
   "outputs": [
    {
     "name": "stdout",
     "output_type": "stream",
     "text": [
      "root\n",
      " |-- MinTemp: double (nullable = true)\n",
      " |-- MaxTemp: double (nullable = true)\n",
      " |-- Rainfall: double (nullable = true)\n",
      " |-- WindGustDir: string (nullable = true)\n",
      " |-- WindGustSpeed: double (nullable = true)\n",
      " |-- WindDir9am: string (nullable = true)\n",
      " |-- WindDir3pm: string (nullable = true)\n",
      " |-- WindSpeed9am: double (nullable = true)\n",
      " |-- WindSpeed3pm: double (nullable = true)\n",
      " |-- Humidity9am: double (nullable = true)\n",
      " |-- Humidity3pm: double (nullable = true)\n",
      " |-- Pressure9am: double (nullable = true)\n",
      " |-- Pressure3pm: double (nullable = true)\n",
      " |-- RainToday: string (nullable = true)\n",
      " |-- RainTomorrow: string (nullable = true)\n",
      " |-- WindGustDirindex: double (nullable = false)\n",
      " |-- WindDir9amindex: double (nullable = false)\n",
      " |-- WindDir3pmindex: double (nullable = false)\n",
      " |-- RainTodayindex: double (nullable = false)\n",
      " |-- RainTomorrowindex: double (nullable = false)\n",
      "\n"
     ]
    }
   ],
   "source": [
    "weather_data.printSchema() # Print the Schema to check the data type of new columns "
   ]
  },
  {
   "cell_type": "markdown",
   "metadata": {},
   "source": [
    "\n"
   ]
  },
  {
   "cell_type": "markdown",
   "metadata": {},
   "source": [
    "# Step 07: Create the feature vector and divide the dataset \n",
    "\n",
    "### Removing unecessary columns:\n",
    "\n",
    "All the old columns that are not required are removed i..e the original columns before casting the datatypes."
   ]
  },
  {
   "cell_type": "code",
   "execution_count": 16,
   "metadata": {},
   "outputs": [
    {
     "name": "stdout",
     "output_type": "stream",
     "text": [
      "root\n",
      " |-- MinTemp: double (nullable = true)\n",
      " |-- MaxTemp: double (nullable = true)\n",
      " |-- Rainfall: double (nullable = true)\n",
      " |-- WindGustSpeed: double (nullable = true)\n",
      " |-- WindSpeed9am: double (nullable = true)\n",
      " |-- WindSpeed3pm: double (nullable = true)\n",
      " |-- Humidity9am: double (nullable = true)\n",
      " |-- Humidity3pm: double (nullable = true)\n",
      " |-- Pressure9am: double (nullable = true)\n",
      " |-- Pressure3pm: double (nullable = true)\n",
      " |-- WindGustDirindex: double (nullable = false)\n",
      " |-- WindDir9amindex: double (nullable = false)\n",
      " |-- WindDir3pmindex: double (nullable = false)\n",
      " |-- RainTodayindex: double (nullable = false)\n",
      " |-- RainTomorrowindex: double (nullable = false)\n",
      "\n"
     ]
    }
   ],
   "source": [
    "# the columns that  are not required are removed using the .select() function of the spark dataframes\n",
    "new_data = weather_data.select([column for column in weather_data.columns if column not in non_numeric_columns])\n",
    "# print the schema after removing the columns\n",
    "new_data.printSchema()"
   ]
  },
  {
   "cell_type": "markdown",
   "metadata": {},
   "source": [
    "####  Encoding the categorical  colums : \n",
    "\n",
    "\n",
    "The indexed columns are encoded into binary vectors, using the One hot Encoder. \n",
    "\n",
    "One Hot encoder is a transformer that takes in an indexed variable and maps a feature vector to that index variable.\n",
    "\n",
    "#### Methodology : \n",
    "\n",
    "All the categorical columns are stored in a list and then the categorical columns are iterated and passed in \n",
    "the OneHotEncoder Function which accepts 2 arguments,i.e. the input column and the name of the output column.\n",
    "\n",
    "The .transform() method is used to transform the data , by converting the indexed strings into vectors."
   ]
  },
  {
   "cell_type": "code",
   "execution_count": 17,
   "metadata": {},
   "outputs": [],
   "source": [
    "\n",
    "# The categorical columns are stored in a list\n",
    "categorical_columns = ['WindGustDirindex','WindDir9amindex','WindDir3pmindex','RainTodayindex']\n",
    "\n",
    "for column in categorical_columns: # iterating through the categorical columns\n",
    "    encoder=OneHotEncoder(inputCol=column,outputCol = column + \"vec\") # initializing oneHotEncoder transformer\n",
    "    new_data  = encoder.transform(new_data) # applying.transform "
   ]
  },
  {
   "cell_type": "code",
   "execution_count": 18,
   "metadata": {},
   "outputs": [
    {
     "name": "stdout",
     "output_type": "stream",
     "text": [
      "+-------+-------+--------+-------------+------------+------------+-----------+-----------+-----------+-----------+----------------+---------------+---------------+--------------+-----------------+-------------------+------------------+------------------+-----------------+\n",
      "|MinTemp|MaxTemp|Rainfall|WindGustSpeed|WindSpeed9am|WindSpeed3pm|Humidity9am|Humidity3pm|Pressure9am|Pressure3pm|WindGustDirindex|WindDir9amindex|WindDir3pmindex|RainTodayindex|RainTomorrowindex|WindGustDirindexvec|WindDir9amindexvec|WindDir3pmindexvec|RainTodayindexvec|\n",
      "+-------+-------+--------+-------------+------------+------------+-----------+-----------+-----------+-----------+----------------+---------------+---------------+--------------+-----------------+-------------------+------------------+------------------+-----------------+\n",
      "|   13.4|   22.9|     0.6|         44.0|        20.0|        24.0|       71.0|       22.0|     1007.7|     1007.1|             0.0|            6.0|            7.0|           0.0|              0.0|     (15,[0],[1.0])|    (15,[6],[1.0])|    (15,[7],[1.0])|    (1,[0],[1.0])|\n",
      "|    7.4|   25.1|     0.0|         44.0|         4.0|        22.0|       44.0|       25.0|     1010.6|     1007.8|             9.0|            9.0|            3.0|           0.0|              0.0|     (15,[9],[1.0])|    (15,[9],[1.0])|    (15,[3],[1.0])|    (1,[0],[1.0])|\n",
      "+-------+-------+--------+-------------+------------+------------+-----------+-----------+-----------+-----------+----------------+---------------+---------------+--------------+-----------------+-------------------+------------------+------------------+-----------------+\n",
      "only showing top 2 rows\n",
      "\n"
     ]
    }
   ],
   "source": [
    "new_data.show(2) # using show() function to show the first 2 rows "
   ]
  },
  {
   "cell_type": "code",
   "execution_count": 19,
   "metadata": {},
   "outputs": [
    {
     "name": "stdout",
     "output_type": "stream",
     "text": [
      "root\n",
      " |-- MinTemp: double (nullable = true)\n",
      " |-- MaxTemp: double (nullable = true)\n",
      " |-- Rainfall: double (nullable = true)\n",
      " |-- WindGustSpeed: double (nullable = true)\n",
      " |-- WindSpeed9am: double (nullable = true)\n",
      " |-- WindSpeed3pm: double (nullable = true)\n",
      " |-- Humidity9am: double (nullable = true)\n",
      " |-- Humidity3pm: double (nullable = true)\n",
      " |-- Pressure9am: double (nullable = true)\n",
      " |-- Pressure3pm: double (nullable = true)\n",
      " |-- WindGustDirindex: double (nullable = false)\n",
      " |-- WindDir9amindex: double (nullable = false)\n",
      " |-- WindDir3pmindex: double (nullable = false)\n",
      " |-- RainTodayindex: double (nullable = false)\n",
      " |-- RainTomorrowindex: double (nullable = false)\n",
      " |-- WindGustDirindexvec: vector (nullable = true)\n",
      " |-- WindDir9amindexvec: vector (nullable = true)\n",
      " |-- WindDir3pmindexvec: vector (nullable = true)\n",
      " |-- RainTodayindexvec: vector (nullable = true)\n",
      "\n"
     ]
    }
   ],
   "source": [
    "new_data.printSchema() # Printing the schema "
   ]
  },
  {
   "cell_type": "markdown",
   "metadata": {},
   "source": [
    "###  Feature generation using Vector Assembler:\n",
    "\n",
    "The Vector assembler takes as input all the raw features and transforms into a single\n",
    "feature vector.\n",
    "\n",
    "The features are given as a list.\n",
    "\n",
    "The VectorAssembler() function takes in two inputs the inputCols and the outputCol, the input coloumn is the list of columns that are to be combined into a feature.\n",
    "\n",
    "The outputCol is the name of the coloumn that should be generated.\n",
    "\n",
    "\n",
    "The  .transform() method is used to generate the features."
   ]
  },
  {
   "cell_type": "code",
   "execution_count": 20,
   "metadata": {},
   "outputs": [],
   "source": [
    "# The assembler input is stored in a list \n",
    "assembler_input =['WindGustDirindexvec', 'WindDir9amindexvec', 'WindDir3pmindexvec', 'RainTodayindexvec', 'MinTemp', 'MaxTemp', 'Rainfall', 'WindGustSpeed','WindSpeed9am', 'WindSpeed3pm',  'Humidity9am','Humidity3pm', 'Pressure9am','Pressure3pm']\n",
    "\n",
    "# Calling the VectorAssembler() function to  build the vector assembler transformer.\n",
    "assembler = VectorAssembler(inputCols = assembler_input, outputCol=\"features\") \n",
    "\n",
    "# using the .transform() function to transform the columns in the dataframe \n",
    "new_data_2  = assembler.transform(new_data)"
   ]
  },
  {
   "cell_type": "code",
   "execution_count": 21,
   "metadata": {},
   "outputs": [
    {
     "name": "stdout",
     "output_type": "stream",
     "text": [
      "root\n",
      " |-- MinTemp: double (nullable = true)\n",
      " |-- MaxTemp: double (nullable = true)\n",
      " |-- Rainfall: double (nullable = true)\n",
      " |-- WindGustSpeed: double (nullable = true)\n",
      " |-- WindSpeed9am: double (nullable = true)\n",
      " |-- WindSpeed3pm: double (nullable = true)\n",
      " |-- Humidity9am: double (nullable = true)\n",
      " |-- Humidity3pm: double (nullable = true)\n",
      " |-- Pressure9am: double (nullable = true)\n",
      " |-- Pressure3pm: double (nullable = true)\n",
      " |-- WindGustDirindex: double (nullable = false)\n",
      " |-- WindDir9amindex: double (nullable = false)\n",
      " |-- WindDir3pmindex: double (nullable = false)\n",
      " |-- RainTodayindex: double (nullable = false)\n",
      " |-- RainTomorrowindex: double (nullable = false)\n",
      " |-- WindGustDirindexvec: vector (nullable = true)\n",
      " |-- WindDir9amindexvec: vector (nullable = true)\n",
      " |-- WindDir3pmindexvec: vector (nullable = true)\n",
      " |-- RainTodayindexvec: vector (nullable = true)\n",
      " |-- features: vector (nullable = true)\n",
      "\n"
     ]
    }
   ],
   "source": [
    "new_data_2.printSchema() # Printing the Schema of the dataframe."
   ]
  },
  {
   "cell_type": "markdown",
   "metadata": {},
   "source": [
    "# Creating Feature and Label Data Frame \n",
    "\n",
    "Creating a DataFrame with the feature and the labels as the columns"
   ]
  },
  {
   "cell_type": "code",
   "execution_count": 22,
   "metadata": {},
   "outputs": [],
   "source": [
    "selectedCols = ['RainTomorrowindex','features'] # storing features and labels in a  list for Sellecting the features and labels from the daataframe\n",
    "df_model = new_data_2.select(selectedCols) # creating a new dataframe with features and labels"
   ]
  },
  {
   "cell_type": "code",
   "execution_count": 23,
   "metadata": {},
   "outputs": [
    {
     "name": "stdout",
     "output_type": "stream",
     "text": [
      "+-----+--------------------+\n",
      "|label|            features|\n",
      "+-----+--------------------+\n",
      "|  0.0|(56,[0,21,37,45,4...|\n",
      "|  0.0|(56,[9,24,33,45,4...|\n",
      "|  0.0|(56,[6,21,33,45,4...|\n",
      "|  0.0|(56,[13,16,40,45,...|\n",
      "|  0.0|(56,[0,25,38,45,4...|\n",
      "+-----+--------------------+\n",
      "only showing top 5 rows\n",
      "\n"
     ]
    }
   ],
   "source": [
    "df_model = df_model.withColumnRenamed('RainTomorrowindex','label') # renaming the label column using the withColoumnRenamed function\n",
    "df_model.show(5) # using the show() function to display the first n rows of the dataframe ."
   ]
  },
  {
   "cell_type": "markdown",
   "metadata": {},
   "source": [
    "# Dividing the dataset into train and test \n",
    "\n",
    "The train and test data are divided by using the randomSplit() function which takes in a list that consits of the proportions of the train and test data."
   ]
  },
  {
   "cell_type": "code",
   "execution_count": 24,
   "metadata": {},
   "outputs": [],
   "source": [
    "train, test = df_model.randomSplit([0.7, 0.3]) #splitting the train test using the randomSplit() function.\n",
    "# taking 70 percent of the data for the training set and 30 percent of the day for testing set. "
   ]
  },
  {
   "cell_type": "markdown",
   "metadata": {},
   "source": [
    "## C. Apply Machine Learning Algorithms\n",
    "\n",
    "\n",
    "## Step 08: Apply machine learning classification algorithms on the dataset and compare their accuracy. Plot the accuracy as bar graph.\n",
    "\n",
    "\n",
    "\n",
    "### a.)  Logistic Regression : \n",
    "\n",
    "In statistics, the logistic model is used to model the probability of a certain class or event existing such as pass/fail, win/lose, alive/dead or healthy/sick. The logistic Regression model can be built by using the LogisticRegression() function.The logistic regression function takes in 3 arguments, the features column, the label column and the maximum number of iterations. The model is trained on the training data, using the .fit() function.The predictions are done using the .transform() function , on the test data.The evaluator used for evaluating the accuracy is the Binary Classification Evaluator.\n",
    "\n",
    "\n",
    "\n"
   ]
  },
  {
   "cell_type": "code",
   "execution_count": 25,
   "metadata": {},
   "outputs": [
    {
     "name": "stdout",
     "output_type": "stream",
     "text": [
      "accuracy for Logistic Regression :  80.1898000144913\n"
     ]
    }
   ],
   "source": [
    "\n",
    "# Building  a logistic regression model\n",
    "# The logistic regression model takes in 3 arguments, the features, the label and the maximum iterations.\n",
    "lr = LogisticRegression(featuresCol = 'features', labelCol = 'label',maxIter = 10)\n",
    "# Training the model using the .fit() function on the training data.\n",
    "lrModel = lr.fit(train)\n",
    "\n",
    "\n",
    "# Predicting the values using the .transfrom() function on the test data\n",
    "lrpredictions = lrModel.transform(test)\n",
    "\n",
    "\n",
    "# Defining a Binary Classification Evaluator to compute the accuracy of the model \n",
    "evaluator = MulticlassClassificationEvaluator()\n",
    "\n",
    "\n",
    "# Calculating the accuracy interms of percentage\n",
    "#i.e. multiplying by 100 \n",
    "accuracy_logistic  = (evaluator.evaluate(lrpredictions))*100\n",
    "\n",
    "# printing the accuracy \n",
    "print(\"accuracy for Logistic Regression : \" ,accuracy_logistic)\n",
    "\n",
    "\n"
   ]
  },
  {
   "cell_type": "markdown",
   "metadata": {},
   "source": [
    "### b)  Decision Tree \n",
    "\n",
    "\n",
    "A decision tree is a decision support tool that uses a tree-like model of decisions and their possible consequences, including chance event outcomes, resource costs, and utility.The DecisionTree model can be built by using the DecisionTreeClasifier() function. The DecisionTreeClasifier function takes in 3 arguments, the features column, the label column and the maximum depth. The maximum Depth is How deeper you allow the tree to go to . \n",
    "\n",
    "\n",
    "The model is trained on the training data, using the .fit() function.The predictions are done using the .transform() function , on the test data.The evaluator used for evaluating the accuracy is the Binary Classification Evaluator."
   ]
  },
  {
   "cell_type": "code",
   "execution_count": 26,
   "metadata": {},
   "outputs": [
    {
     "name": "stdout",
     "output_type": "stream",
     "text": [
      "Accuracy for decisiontree : 78.22970999715268\n"
     ]
    }
   ],
   "source": [
    "\n",
    "\n",
    "# Building a decision tree model with the features and labels and setting the maximum depth to 30. \n",
    "dt = DecisionTreeClassifier(featuresCol = 'features', labelCol = 'label', maxDepth = 30)\n",
    "\n",
    "#training the model with the train data\n",
    "dtModel = dt.fit(train)\n",
    "\n",
    "#Use the  Transformer.transform() method to predict test data\n",
    "predictions_decision_tree = dtModel.transform(test)\n",
    "\n",
    "\n",
    "# Defining an evaluator to predict the accuracy of the model \n",
    "evaluator = MulticlassClassificationEvaluator()\n",
    "\n",
    "\n",
    "\n",
    "# computing the accuracy of the model by using the binary class evaluator, and representing the accuracy interms of percentages\n",
    "accuracy_decisiontree = evaluator.evaluate(predictions_decision_tree) * 100 \n",
    "\n",
    "# Printing the Accuracy \n",
    "print(\"Accuracy for decisiontree :\" ,accuracy_decisiontree)\n",
    "\n",
    "\n",
    "\n",
    "\n",
    "\n",
    "\n",
    "\n",
    "\n",
    "\n"
   ]
  },
  {
   "cell_type": "markdown",
   "metadata": {},
   "source": [
    "### c) Random Forest : \n",
    "\n",
    "Random forests or random decision forests are an ensemble learning method for classification, regression and other tasks that operates by constructing a multitude of decision trees at training time and outputting the class that is the mode of the classes or mean prediction of the individual trees. The Random Forest  model can be built by using the RandomForestClasifier() function.The RandomForestClasifier function takes in 3 arguments, the features column, the label column and the numTrees which represents the Number of Trees.\n",
    "\n",
    "\n",
    "The model is trained on the training data, using the .fit() function.The predictions are done using the .transform() function , on the test data. The evaluator used for evaluating the accuracy is the Binary Classification Evaluator."
   ]
  },
  {
   "cell_type": "code",
   "execution_count": 27,
   "metadata": {},
   "outputs": [
    {
     "name": "stdout",
     "output_type": "stream",
     "text": [
      "accuracy of random forest is : \n",
      "82.52060697860145\n"
     ]
    }
   ],
   "source": [
    "\n",
    "# Building a Random Forest Model using RandomForestClassifier()\n",
    "rf = RandomForestClassifier(labelCol=\"label\",featuresCol=\"features\", numTrees=10,maxDepth = 25)\n",
    "rf_model = rf.fit(train) # training the model using fit() function\n",
    "\n",
    "predictions_rf = rf_model.transform(test) # predicting the values of the test data using Transformer.transform() function.\n",
    "\n",
    "\n",
    "# Defining the Binary Classification evaluator to evaluate the accuracy.\n",
    "evaluator =  MulticlassClassificationEvaluator()\n",
    "\n",
    "\n",
    "# Computing the accuracy of the predicted model and multiplying by 100 inorder to represent the accuracy as percentages.\n",
    "accuracy_randomforest = (evaluator.evaluate(predictions_rf))*100\n",
    "print(\"accuracy of random forest is : \")\n",
    "print(accuracy_randomforest) # Printing the accuracy "
   ]
  },
  {
   "cell_type": "markdown",
   "metadata": {},
   "source": [
    "### d)  GBT \n",
    "\n",
    "Gradient boosting is a machine learning technique for regression and classification problems, which produces a prediction model in the form of an ensemble of weak prediction models, typically decision trees. It builds the model in a stage-wise fashion. The Gradient boosting model can be built by using the GBTClasifier() function.The GBTClasifier function takes in 3 arguments, the features column, the label column and the maxIter , which represents the maximum Iterations . \n",
    "\n",
    "The model is trained on the training data, using the .fit() function.The predictions are done using the .transform() function , on the test data.The evaluator used for evaluating the accuracy is the Multi Classification Evaluator."
   ]
  },
  {
   "cell_type": "code",
   "execution_count": 28,
   "metadata": {},
   "outputs": [
    {
     "name": "stdout",
     "output_type": "stream",
     "text": [
      "Accuracy for GBT :  82.28644965554273\n"
     ]
    }
   ],
   "source": [
    "# Building the GBT Model()\n",
    "gbt = GBTClassifier(labelCol = 'label',featuresCol = 'features',maxIter=10)\n",
    "# Training the GBT model on train data\n",
    "gbtModel = gbt.fit(train)\n",
    "# Predicting the values of test data using Transformer.transform() function\n",
    "predictions_gbt = gbtModel.transform(test)\n",
    "\n",
    "#Defining a BinaryClassificationevaluator to predict the accuracy\n",
    "evaluator = MulticlassClassificationEvaluator()\n",
    "\n",
    "\n",
    "#  Computing the accuracy using the evaluator and multiplying into 100 to represent in terms of percentages\n",
    "accuracy_gbt = (evaluator.evaluate(predictions_gbt))* 100 \n",
    "\n",
    "# Printing the accuracy for gbt \n",
    "\n",
    "print(\"Accuracy for GBT :  \" + str(accuracy_gbt))\n",
    "\n"
   ]
  },
  {
   "cell_type": "markdown",
   "metadata": {},
   "source": [
    "# Plot for Accuracies : \n",
    "\n",
    "A barplot is used to plot the accuracies.\n",
    "\n",
    "All the accuracies are stored in a list and are passed in the y axis.\n",
    "\n",
    "The corresponding model names are stored in a list and are passed in the x-axis."
   ]
  },
  {
   "cell_type": "code",
   "execution_count": 29,
   "metadata": {
    "scrolled": true
   },
   "outputs": [
    {
     "data": {
      "image/png": "[encoded data removed]",
      "text/plain": [
       "<Figure size 720x360 with 1 Axes>"
      ]
     },
     "metadata": {
      "needs_background": "light"
     },
     "output_type": "display_data"
    }
   ],
   "source": [
    "accuracies = [accuracy_logistic,accuracy_gbt,accuracy_gbt,accuracy_randomforest]\n",
    "x_axis = [\"LogisticRegression\",\"GBT\",\"Decision Tree\",'Random Forest']\n",
    "\n",
    "plt.figure(figsize=(10,5))\n",
    "plt.bar(x_axis,accuracies,color = ['r','b','g','y'])\n",
    "\n",
    "plt.title('Models and Accuracies')\n",
    "plt.ylabel('Models')\n",
    "plt.xlabel('Accuracies')\n",
    "plt.xticks(rotation = 60)\n",
    "\n",
    "plt.grid()\n",
    "plt.show()"
   ]
  },
  {
   "cell_type": "markdown",
   "metadata": {},
   "source": [
    "# Step 09 \n",
    "### Calculating Confusion Matrix and finding the precision recall and F1 Score of each Classification Algorithm \n",
    "\n",
    "A **confusion matrix** is a table layout that allows the visualization of the performance of an Algorithm.\n",
    "\n",
    "**Recall** is the ratio of the correctly predicted observations to all the observations in actuall class\n",
    "yes. **Recall** is refered to as true positive rate or sensitivity. **Precision** is the positive predictive value \n",
    "The confusion matrix is generated by the MulticlassMetrics().confusionMatrix() function. This function takes in the actual values and predictions as tuples.This can be achieved by converting the predicted dataframe to an RDD and then using map and lambda function to select the prediction and label.The .select() function of the Spark Dataframe is used to select the predictions and labels . \n",
    "\n",
    "\n",
    "The confusion matrix is of the form **[ [ TN, FP], [FN , TP ] ]** , This order is considering label Yes as positive. where FN = False Negative , FP = False positive , TN = True Negative , TP = True Positive. The formulae are : \n",
    "\n",
    "Recall = TP/TP+FN\n",
    "\n",
    "Precision = TP/TP+FP\n",
    "\n",
    "**F1Score = 2*(Recall * Precision)/(Recall + Precision)**\n",
    "\n",
    "Additional functions used for this task: \n",
    "\n",
    "The additional functions used for this task are .map() for the RDD, inorder to select the labels and the predictions.Also, the .toArray() function is used to convert the confusin matrix to NumpyArray\n",
    "\n",
    "#### Confusion Matrix for GBT : \n"
   ]
  },
  {
   "cell_type": "code",
   "execution_count": 30,
   "metadata": {},
   "outputs": [
    {
     "name": "stdout",
     "output_type": "stream",
     "text": [
      "confusion matrix for gbt is : \n",
      " \n",
      "[[31525.  1617.]\n",
      " [ 5321.  4323.]]\n",
      "Precision for GBT : 0.7277777777777777\n",
      "Recall for GBT : 0.448257984238905\n",
      "F1Score for GBT : 0.5547997946611909\n"
     ]
    }
   ],
   "source": [
    "##  Using MulticlassMetrics() .rdd()  and .confusionMatrix() function to generate a confusion matrix\n",
    "\n",
    "metrics_gbt = MulticlassMetrics(predictions_gbt.select('label','prediction').rdd.map(lambda x: (x.prediction,x.label)))\n",
    "confusion_GBT = metrics_gbt.confusionMatrix().toArray()\n",
    "\n",
    "# Generating Precision Recall and F1 Score from  Confusion Matrix : \n",
    "\n",
    "precision_GBT =  confusion_GBT[1][1]/ (confusion_GBT[0][1] + confusion_GBT[1][1])\n",
    "recall_GBT = confusion_GBT[1][1]/ (confusion_GBT[1][0] + confusion_GBT[1][1])\n",
    "F1Score_GBT = 2 * ((precision_GBT * recall_GBT)  / (precision_GBT + recall_GBT))\n",
    "\n",
    "\n",
    "\n",
    "print('confusion matrix for gbt is : ')\n",
    "print(' ')\n",
    "print(confusion_GBT)\n",
    "\n",
    "print('Precision for GBT : '+ str(precision_GBT))\n",
    "print('Recall for GBT : '+ str(recall_GBT))\n",
    "print('F1Score for GBT : '+ str(F1Score_GBT))\n",
    "\n"
   ]
  },
  {
   "cell_type": "markdown",
   "metadata": {},
   "source": [
    "# Confusion matrix for Logistic Regression : "
   ]
  },
  {
   "cell_type": "code",
   "execution_count": 31,
   "metadata": {},
   "outputs": [
    {
     "name": "stdout",
     "output_type": "stream",
     "text": [
      "confusion matrix for Logistic regression is \n",
      " \n",
      "[[30882.  2260.]\n",
      " [ 5586.  4058.]]\n",
      "Precision for logistic  0.6422918645140867\n",
      "\n",
      "Recall for logistic :  0.4207797594359187\n",
      " \n",
      "F1 Score for logistic :  0.5084575867685753\n"
     ]
    }
   ],
   "source": [
    "# Confusion Matrix:\n",
    "\n",
    "##  Using MulticlassMetrics() .rdd()  and .confusionMatrix() function to generate a confusion matrix\n",
    "metrics_logistic = MulticlassMetrics(lrpredictions.select('label','prediction').rdd.map(lambda x: (x.prediction,x.label)))\n",
    "confusion_logistic = metrics_logistic.confusionMatrix().toArray()\n",
    "\n",
    "# Generating Precision Recall and F1 Score from  Confusion Matrix : \n",
    "precision_logistic=  confusion_logistic[1][1]/ (confusion_logistic[0][1] + confusion_logistic[1][1])\n",
    "recall_logistic = confusion_logistic[1][1]/ (confusion_logistic[1][0] + confusion_logistic[1][1])\n",
    "F1Score_logistic = 2 * ((precision_logistic * recall_logistic)  / (precision_logistic + recall_logistic))\n",
    "\n",
    "\n",
    "print('confusion matrix for Logistic regression is ')\n",
    "print(' ')\n",
    "print(confusion_logistic)\n",
    "\n",
    "\n",
    "print(\"Precision for logistic \",precision_logistic)\n",
    "print(\"\")\n",
    "print(\"Recall for logistic : \",recall_logistic)\n",
    "print(\" \")\n",
    "print(\"F1 Score for logistic : \",F1Score_logistic)\n"
   ]
  },
  {
   "cell_type": "markdown",
   "metadata": {},
   "source": [
    "# Confusion Matrix for Random forest  : "
   ]
  },
  {
   "cell_type": "code",
   "execution_count": 32,
   "metadata": {},
   "outputs": [
    {
     "name": "stdout",
     "output_type": "stream",
     "text": [
      "confusion matrix for Random Forest \n",
      "[[31166.  1976.]\n",
      " [ 5005.  4639.]]\n",
      "Precision for rf  0.7012849584278156\n",
      "\n",
      "Recall for rf :  0.4810244711737868\n",
      " \n",
      "F1 Score for rf :  0.5706378006027432\n"
     ]
    }
   ],
   "source": [
    "# Confusion Matrix:\n",
    "##  Using MulticlassMetrics() .rdd()  and .confusionMatrix() function to generate a confusion matrix and the .toArray() function is used to convert the confusion matrix to a NumpyArray()\n",
    "Metrics_rf = MulticlassMetrics(predictions_rf.select('label','prediction').rdd.map(lambda x: (x.prediction,x.label)))\n",
    "confusion_rf = Metrics_rf.confusionMatrix().toArray() \n",
    "\n",
    "# Generating Precision Recall and F1 Score from  Confusion Matrix : \n",
    "precision_rf=  confusion_rf[1][1]/ (confusion_rf[0][1] + confusion_rf[1][1])\n",
    "recall_rf = confusion_rf[1][1]/ (confusion_rf[1][0] + confusion_rf[1][1])\n",
    "F1Score_rf = 2 * ((precision_rf * recall_rf)  / (precision_rf + recall_rf))\n",
    "\n",
    "print('confusion matrix for Random Forest ')\n",
    "print(confusion_rf)\n",
    "\n",
    "\n",
    "print(\"Precision for rf \",precision_rf)\n",
    "print(\"\")\n",
    "\n",
    "print(\"Recall for rf : \",recall_rf)\n",
    "print(\" \")\n",
    "print(\"F1 Score for rf : \",F1Score_rf)\n",
    "\n"
   ]
  },
  {
   "cell_type": "markdown",
   "metadata": {},
   "source": [
    "# Confusion matrix for Decision Tree : "
   ]
  },
  {
   "cell_type": "code",
   "execution_count": 33,
   "metadata": {},
   "outputs": [
    {
     "name": "stdout",
     "output_type": "stream",
     "text": [
      "confusion matrix for decision tree :\n",
      " \n",
      "[[28456.  4686.]\n",
      " [ 4637.  5007.]]\n",
      "Precision for decision_tree  0.5165583410708758\n",
      " \n",
      "Recall for decision_tree :  0.5191829116549149\n",
      "\n",
      "F1 Score for decision_tree :  0.517867301029115\n"
     ]
    }
   ],
   "source": [
    "# Confusion Matrix:\n",
    "\n",
    "##  Using MulticlassMetrics() .rdd()  and .confusionMatrix() function to generate a confusion matrix\n",
    "\n",
    "\n",
    "confusion_decision_tree = MulticlassMetrics(predictions_decision_tree.select('label','prediction').rdd.map(lambda x: (x.prediction,x.label))).confusionMatrix().toArray()\n",
    "\n",
    "# Computing Precision Recall and F1 Score from the confusion matrix : \n",
    "precision_decision_tree=  confusion_decision_tree[1][1]/ (confusion_decision_tree[0][1] + confusion_decision_tree[1][1])\n",
    "recall_decision_tree = confusion_decision_tree[1][1]/ (confusion_decision_tree[1][0] + confusion_decision_tree[1][1])\n",
    "F1Score_decision_tree = 2 * ((precision_decision_tree * recall_decision_tree)  / (precision_decision_tree + recall_decision_tree))\n",
    "print('confusion matrix for decision tree :')\n",
    "print(' ')\n",
    "print(confusion_decision_tree)\n",
    "\n",
    "\n",
    "print(\"Precision for decision_tree \",precision_decision_tree)\n",
    "\n",
    "print(\" \")\n",
    "print(\"Recall for decision_tree : \",recall_decision_tree)\n",
    "\n",
    "\n",
    "print(\"\")\n",
    "print(\"F1 Score for decision_tree : \",F1Score_decision_tree)\n"
   ]
  },
  {
   "cell_type": "markdown",
   "metadata": {},
   "source": [
    "**How the Accuracy can be Improved** ?? "
   ]
  },
  {
   "cell_type": "markdown",
   "metadata": {},
   "source": [
    "The precision can be seen as a measure of exactness (quality) and recall is measure of completness(quantity). The precision is higher than recall for Logistic Regression, Random Forest and GBT , it indicates that the algorithm generates more relavant results than irrelavant results.The recall is higher than precision for Decision tree,it indicates that the algorithm returned most relavant results. "
   ]
  },
  {
   "cell_type": "markdown",
   "metadata": {},
   "source": [
    "The accuracy of the prediction can be improved by:\n",
    "    \n",
    "1.) Even though the missing values were imputed, the Outliers should also be detected in the Numeric columns : \n",
    "    'MinTemp', 'MaxTemp', 'Rainfall', 'WindGustSpeed', 'WindSpeed9am', 'WindSpeed3pm', 'Humidity9am', 'Humidity3pm','Pressure9am' and  'Pressure3pm'. The presence of outliers leads to a biased model. \n",
    "        \n",
    "    \n",
    "    \n",
    " 2.) Feature Engineering : Changing the scale of variables from original scale to scale between zero and one . i.e. Data Normalization. Data Should be normalized for columns such as Pressure as the values are much higher than other values.\n",
    "    \n",
    " \n",
    "        \n",
    " 3.) Feature Selection : Finding the best subset of attributes which explains the relationship between the independent variables and the target variables . The features that have the higher correlation with the label should be slected in order to improve accuracy of the models. \n",
    "\n",
    "    \n",
    "4.) Essemble methods such as Bagging and Bosting which combines multiple weak models and produce much better results.\n",
    "    \n",
    "    "
   ]
  },
  {
   "cell_type": "code",
   "execution_count": null,
   "metadata": {},
   "outputs": [],
   "source": []
  }
 ],
 "metadata": {
  "kernelspec": {
   "display_name": "Python 3",
   "language": "python",
   "name": "python3"
  },
  "language_info": {
   "codemirror_mode": {
    "name": "ipython",
    "version": 3
   },
   "file_extension": ".py",
   "mimetype": "text/x-python",
   "name": "python",
   "nbconvert_exporter": "python",
   "pygments_lexer": "ipython3",
   "version": "3.8.3"
  }
 },
 "nbformat": 4,
 "nbformat_minor": 2
}
